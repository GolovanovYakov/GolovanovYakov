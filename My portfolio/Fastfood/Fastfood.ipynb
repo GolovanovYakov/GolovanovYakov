{
 "cells": [
  {
   "cell_type": "code",
   "execution_count": null,
   "id": "61fd647b-93e7-466e-8b96-9896240ecbc4",
   "metadata": {},
   "outputs": [],
   "source": [
    "import pandas as pd\n",
    "import numpy as np\n",
    "import plotly.express as px\n",
    "import warnings\n",
    "warnings.filterwarnings('ignore')"
   ]
  },
  {
   "cell_type": "code",
   "execution_count": null,
   "id": "43bde7c7-e4d5-4800-b059-58c9c32a8c38",
   "metadata": {},
   "outputs": [],
   "source": [
    "# Импортируем основной файл с данными по ресторанам (фастфуд) за 2019 год\n",
    "df = pd.read_csv(r'C:\\Users\\chich\\Desktop\\CL-3\\Данные\\Datafiniti_Fast_Food_Restaurants_May19.csv', sep = ',')\n",
    "# Создаем дополнительный столбец - \"связка\" город+провинция т.к. может быть несколько городов с одним названием\n",
    "df['city_pr'] = df['city']+'_'+df['province']"
   ]
  },
  {
   "cell_type": "code",
   "execution_count": null,
   "id": "8c098059-ff24-4dc6-82ba-89b7ef65dbdb",
   "metadata": {},
   "outputs": [],
   "source": [
    "# Импортируем данные с информацией по районам\n",
    "df_dist = pd.read_csv(r'C:\\Users\\chich\\Desktop\\CL-3\\Данные\\district.csv', sep = ';')"
   ]
  },
  {
   "cell_type": "code",
   "execution_count": null,
   "id": "11158ca9-c1c7-4fc4-be7f-26c316b76e25",
   "metadata": {
    "tags": []
   },
   "outputs": [],
   "source": [
    "# Импортируем дополнительные данные из внешних источников (численность населения, туристы, площадь городов, координаты городов)\n",
    "df_pl = pd.read_csv(r'C:\\Users\\chich\\Desktop\\CL-3\\Данные\\plotnost.csv', sep = ';')"
   ]
  },
  {
   "cell_type": "code",
   "execution_count": null,
   "id": "81b63247-9548-42f7-a92b-23a390315149",
   "metadata": {},
   "outputs": [],
   "source": [
    "# Проверяем основной файл на наличие дубликатов\n",
    "df.duplicated().sum()"
   ]
  },
  {
   "cell_type": "code",
   "execution_count": null,
   "id": "f0e2d0d5-8614-47e7-92fe-96414a5ae59b",
   "metadata": {},
   "outputs": [],
   "source": [
    "# Проверяем основной файл на наличие null\n",
    "df.isnull().sum()"
   ]
  },
  {
   "cell_type": "code",
   "execution_count": null,
   "id": "9bfd511c-35d5-433e-842f-ea6800f55771",
   "metadata": {},
   "outputs": [],
   "source": [
    "# Оставляем в основном датафрейме только нужные нам поля\n",
    "df_col = df[['id','address','categories','city','province','city_pr','latitude','longitude','name','postalCode']]"
   ]
  },
  {
   "cell_type": "code",
   "execution_count": null,
   "id": "b51048b9-9bba-40c1-84f9-4c5411260c02",
   "metadata": {},
   "outputs": [],
   "source": [
    "# Формируем список рассматриваемых городов\n",
    "city = ['Birmingham_AL', 'Cincinnati_OH', 'Cleveland_OH', 'Columbus_OH', 'Indianapolis_IN', 'Portland_OR', 'Miami_FL', 'Las Vegas_NV']\n",
    "# Фильтруем наш датафрейм по списку рассматриваемых городов\n",
    "df_city = df_col[df_col['city_pr'].isin(city)]"
   ]
  },
  {
   "cell_type": "code",
   "execution_count": null,
   "id": "ebfc7f6f-0a8e-4d85-8e8c-a8528bdfeb4e",
   "metadata": {},
   "outputs": [],
   "source": [
    "df_city.info() # вместе с Las Vegas и Miami"
   ]
  },
  {
   "cell_type": "code",
   "execution_count": null,
   "id": "fe27d084-80a5-4e9b-b93c-bdcd862da716",
   "metadata": {},
   "outputs": [],
   "source": [
    "# Джойним к нашему датафрейму информацию по районам \n",
    "df_city = df_city.merge(df_dist, how='left', on='id')"
   ]
  },
  {
   "cell_type": "code",
   "execution_count": null,
   "id": "7eb16d01-3943-4407-83c1-cfc10aff1753",
   "metadata": {},
   "outputs": [],
   "source": [
    "# По Лас Вегасу и Маями ничего не подтянулось, заполняем null значением Unknown\n",
    "df_city['district'] = df_city['district'].fillna('Unknown')\n",
    "df_city['county'] = df_city['county'].fillna('Unknown')"
   ]
  },
  {
   "cell_type": "code",
   "execution_count": null,
   "id": "4ee5a8b9-0c7b-44a0-be20-25706af8f197",
   "metadata": {},
   "outputs": [],
   "source": [
    "# Формируем сводную таблицу по городам, которая будет основой для визуализации\n",
    "pivot = df_city.groupby('city_pr').agg(cnt=('id','count')).sort_values(by='cnt', ascending=True).reset_index()"
   ]
  },
  {
   "cell_type": "code",
   "execution_count": null,
   "id": "ef1cedf9-2869-48b7-a6d1-d89b7550ddc4",
   "metadata": {},
   "outputs": [],
   "source": [
    "# Оформляем визуализацию\n",
    "fig = px.bar(pivot, x='cnt', y='city_pr', title = 'Кол-во ресторанов фастфуд по городам')\n",
    "fig.update_layout(\n",
    "xaxis_title='Кол-во точек общепита',\n",
    "yaxis_title='Город')\n",
    "fig.show()"
   ]
  },
  {
   "cell_type": "code",
   "execution_count": null,
   "id": "81944f1b-611c-41ad-8594-c9b060918fc5",
   "metadata": {},
   "outputs": [],
   "source": [
    "\n",
    "# Формируем сводную таблицу, которая будет основой для визуализации кол-ва точек по районам конкретного города\n",
    "# Информации много, в связи с чем на одной визуализации данные анализировать сложно, каждый город был отображен отдельно.\n",
    "pivot2 = df_city[df_city['city_pr']=='Columbus_OH'].groupby('district')\\\n",
    ".agg(cnt=('id','count')).sort_values(by='cnt', ascending=True).reset_index()\n",
    "# Прописываем условие cnt>=2, чтобы не показывать районы с незначительным кол-вом точек фастфуда\n",
    "pivot2 = pivot2[pivot2['cnt']>=2]\n",
    "# Формируем визуализацию\n",
    "fig2 = px.bar(pivot2, x='cnt', y='district', title = 'Columbus')\n",
    "fig2.update_layout(\n",
    "xaxis_title='Кол-во точек общепита',\n",
    "yaxis_title='Район',\n",
    "autosize=False,\n",
    "    width=1100,\n",
    "    height=700,\n",
    "    margin=dict(l=30,r=30,b=30,t=30,pad=3))\n",
    "fig2.show()\n"
   ]
  },
  {
   "cell_type": "code",
   "execution_count": null,
   "id": "880d41af-f343-431a-8bbc-1c2b42756f90",
   "metadata": {},
   "outputs": [],
   "source": [
    "# Аналогично по городу Birmingham\n",
    "pivot3 = df_city[df_city['city_pr']=='Birmingham_AL'].groupby('district')\\\n",
    ".agg(cnt=('id','count')).sort_values(by='cnt', ascending=True).reset_index()\n",
    "pivot3 = pivot3[pivot3['cnt']>=2]\n",
    "fig3 = px.bar(pivot3, x='cnt', y='district', title = 'Birmingham')\n",
    "fig3.update_layout(\n",
    "xaxis_title='Кол-во точек общепита',\n",
    "yaxis_title='Район',\n",
    "autosize=False,\n",
    "    width=1100,\n",
    "    height=350,\n",
    "    margin=dict(l=30,r=30,b=30,t=30,pad=3))\n",
    "fig3.show()"
   ]
  },
  {
   "cell_type": "code",
   "execution_count": null,
   "id": "c62054bc-1abf-4185-abfd-dba1158399e8",
   "metadata": {},
   "outputs": [],
   "source": [
    "# Аналогично по городу Cincinnati\n",
    "pivot4 = df_city[df_city['city_pr']=='Cincinnati_OH'].groupby('district')\\\n",
    ".agg(cnt=('id','count')).sort_values(by='cnt', ascending=True).reset_index()\n",
    "pivot4 = pivot4[pivot4['cnt']>=2]\n",
    "fig4 = px.bar(pivot4, x='cnt', y='district', title = 'Cincinnati')\n",
    "fig4.update_layout(\n",
    "xaxis_title='Кол-во точек общепита',\n",
    "yaxis_title='Район',\n",
    "autosize=False,\n",
    "    width=1100,\n",
    "    height=500,\n",
    "    margin=dict(l=30,r=30,b=30,t=30,pad=3))\n",
    "fig4.show()"
   ]
  },
  {
   "cell_type": "code",
   "execution_count": null,
   "id": "425b3754-1075-41cb-907a-1ceef6a749ba",
   "metadata": {},
   "outputs": [],
   "source": [
    "# Аналогично по городу Cleveland\n",
    "pivot5 = df_city[df_city['city_pr']=='Cleveland_OH'].groupby('district')\\\n",
    ".agg(cnt=('id','count')).sort_values(by='cnt', ascending=True).reset_index()\n",
    "pivot5 = pivot5[pivot5['cnt']>=2]\n",
    "fig5 = px.bar(pivot5, x='cnt', y='district', title = 'Cleveland')\n",
    "fig5.update_layout(\n",
    "xaxis_title='Кол-во точек общепита',\n",
    "yaxis_title='Район',\n",
    "autosize=False,\n",
    "    width=1100,\n",
    "    height=300,\n",
    "    margin=dict(l=30,r=30,b=30,t=30,pad=3))\n",
    "fig5.show()"
   ]
  },
  {
   "cell_type": "code",
   "execution_count": null,
   "id": "20a4cf14-cba5-4fc0-937d-35b02cc50b0a",
   "metadata": {},
   "outputs": [],
   "source": [
    "# Аналогично по городу Indianapolis\n",
    "pivot6 = df_city[df_city['city_pr']=='Indianapolis_IN'].groupby('district')\\\n",
    ".agg(cnt=('id','count')).sort_values(by='cnt', ascending=True).reset_index()\n",
    "pivot6 = pivot6[pivot6['cnt']>=2]\n",
    "fig6 = px.bar(pivot6, x='cnt', y='district', title = 'Indianapolis')\n",
    "fig6.update_layout(\n",
    "xaxis_title='Кол-во точек общепита',\n",
    "yaxis_title='Район',\n",
    "autosize=False,\n",
    "    width=1100,\n",
    "    height=500,\n",
    "    margin=dict(l=30,r=30,b=30,t=30,pad=3))\n",
    "fig6.show()"
   ]
  },
  {
   "cell_type": "code",
   "execution_count": null,
   "id": "f02f6c8c-1e73-4fa9-86b7-a6475d91610b",
   "metadata": {},
   "outputs": [],
   "source": [
    "# Аналогично по городу Portland\n",
    "pivot7 = df_city[df_city['city_pr']=='Portland_OR'].groupby('district')\\\n",
    ".agg(cnt=('id','count')).sort_values(by='cnt', ascending=True).reset_index()\n",
    "pivot7 = pivot7[pivot7['cnt']>=2]\n",
    "fig7 = px.bar(pivot7, x='cnt', y='district', title = 'Portland')\n",
    "fig7.update_layout(\n",
    "xaxis_title='Кол-во точек общепита',\n",
    "yaxis_title='Район',\n",
    "autosize=False,\n",
    "    width=1100,\n",
    "    height=600,\n",
    "    margin=dict(l=30,r=30,b=30,t=30,pad=3))\n",
    "fig7.show()"
   ]
  },
  {
   "cell_type": "code",
   "execution_count": null,
   "id": "15da5290-c1b4-404a-90a0-a36c98a158a4",
   "metadata": {},
   "outputs": [],
   "source": [
    "# Формируем сводную таблицу по городам с расчетом количества точек общепита и кол-ва районов в городе\n",
    "df_gr = df_city.groupby('city_pr').agg(places=('id','count'), districts=('district','nunique')).reset_index()\n",
    "# Из рассмотрения убираем Лас Вегас и Маями т.к. эти города не являются \"типичными\" для Америки + не прошли по unit экономике\n",
    "df_gr = df_gr[(df_gr['city_pr'] != 'Miami_FL') & (df_gr['city_pr'] != 'Las Vegas_NV')].reset_index(drop=True)"
   ]
  },
  {
   "cell_type": "code",
   "execution_count": null,
   "id": "5c85c350-73af-44b9-b6d4-fc45332de1c5",
   "metadata": {},
   "outputs": [],
   "source": [
    "# Указываем необходимый коэффициент для дальнейших расчетов\n",
    "K=0.33\n",
    "# Джойним нашу сводную таблицу с таблицей, включающую данные из внешних источников (см. блок по импорту)\n",
    "df_cal = df_gr.merge(df_pl, how='left',on='city_pr') # DF с расчетом плотности\n",
    "# Рассчитываем следующие дополнительные поля:\n",
    "df_cal['population_t'] = df_cal['population'] + df_cal['turists'] # Население+туристы\n",
    "df_cal['ca_per_year'] = (df_cal['population_t']*K).round(2) # Размер ЦА в год\n",
    "df_cal['plot_per_dist'] = (df_cal['places']/df_cal['districts']).round(2) # Плотность на Район, шт\n",
    "df_cal['plot_per_km2'] = (df_cal['places']/df_cal['sqr, km2']).round(2) # Плотность на км2, шт\n",
    "df_cal['pop_per_1place'] = (df_cal['population']/df_cal['places']).round(2) # Население на 1 ресторан, чел.\n",
    "df_cal['pop_t_per_1place'] = (df_cal['population_t']/df_cal['places']).round(2) # Население+туристы на 1 ресторан, чел.\n",
    "df_cal['ca_per_1place'] = (df_cal['ca_per_year']/df_cal['places']).round(2) # ЦА на 1 ресторан, чел.\n",
    "df_cal # Получилась следующая таблица"
   ]
  },
  {
   "cell_type": "code",
   "execution_count": null,
   "id": "cd72c58a-04fd-483b-a6ba-7902a39c0322",
   "metadata": {},
   "outputs": [],
   "source": [
    "# По геоданным городов строим следующую визуализацию:\n",
    "# Цвет точек отвечает за кол-во ресторанов общепита в городе, размер точки за площадь города\n",
    "fig_m1 = px.scatter_mapbox(df_cal, lat='lat', lon='lon', color='places', \\\n",
    "                           size='sqr, km2', title='Площадь города, кол-во точек', hover_name='city_pr', mapbox_style='carto-positron', zoom=3)\n",
    "fig_m1.update_layout(autosize=False, width=1100, height=600)\n",
    "fig_m1.update_layout(margin={\"r\": 0, \"t\": 30, \"l\": 0, \"b\": 0})\n",
    "fig_m1.show()"
   ]
  },
  {
   "cell_type": "code",
   "execution_count": null,
   "id": "1b57a32b-d846-47aa-8ff3-740456d3590f",
   "metadata": {},
   "outputs": [],
   "source": []
  },
  {
   "cell_type": "code",
   "execution_count": null,
   "id": "4fee0d8f-e151-4469-92e1-68ce23cf36d4",
   "metadata": {},
   "outputs": [],
   "source": []
  },
  {
   "cell_type": "code",
   "execution_count": null,
   "id": "fc228120-e740-4b10-9480-0a0403e7828e",
   "metadata": {},
   "outputs": [],
   "source": []
  }
 ],
 "metadata": {
  "kernelspec": {
   "display_name": "Python 3 (ipykernel)",
   "language": "python",
   "name": "python3"
  },
  "language_info": {
   "codemirror_mode": {
    "name": "ipython",
    "version": 3
   },
   "file_extension": ".py",
   "mimetype": "text/x-python",
   "name": "python",
   "nbconvert_exporter": "python",
   "pygments_lexer": "ipython3",
   "version": "3.11.5"
  }
 },
 "nbformat": 4,
 "nbformat_minor": 5
}
