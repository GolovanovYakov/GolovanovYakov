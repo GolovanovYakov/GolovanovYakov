{
 "cells": [
  {
   "cell_type": "markdown",
   "id": "29b8cb2b",
   "metadata": {},
   "source": [
    "#  Прогнозирование заказов такси"
   ]
  },
  {
   "cell_type": "markdown",
   "id": "ec6b1a14",
   "metadata": {},
   "source": [
    "Компания такси собрала исторические данные о заказах такси в аэропортах. Чтобы привлекать больше водителей в период пиковой нагрузки, нужно спрогнозировать количество заказов такси на следующий час. \n",
    "Значение метрики RMSE на тестовой выборке должно быть не больше 48.\n"
   ]
  },
  {
   "cell_type": "markdown",
   "id": "d0d17254",
   "metadata": {},
   "source": [
    "## Подготовка"
   ]
  },
  {
   "cell_type": "markdown",
   "id": "f78e40d8",
   "metadata": {},
   "source": [
    "Загрузка данныъ и их ресемплирование по одному часу."
   ]
  },
  {
   "cell_type": "code",
   "execution_count": 1,
   "id": "90856d9f",
   "metadata": {},
   "outputs": [],
   "source": [
    "import pandas as pd\n",
    "import numpy as np\n",
    "\n",
    "\n",
    "from sklearn.model_selection import train_test_split, GridSearchCV, cross_validate, cross_val_score, TimeSeriesSplit\n",
    "from sklearn.metrics import mean_squared_error, make_scorer\n",
    "from sklearn.linear_model import LinearRegression\n",
    "from sklearn.tree import DecisionTreeRegressor\n",
    "\n",
    "from statsmodels.tsa.seasonal import seasonal_decompose\n",
    "\n",
    "from lightgbm import LGBMRegressor\n",
    "\n",
    "from catboost import CatBoostRegressor\n",
    "\n",
    "import matplotlib.pyplot as plt"
   ]
  },
  {
   "cell_type": "code",
   "execution_count": 2,
   "id": "4cf1496b",
   "metadata": {},
   "outputs": [],
   "source": [
    "try:\n",
    "    df = pd.read_csv('/datasets/taxi.csv', index_col=[0], parse_dates=[0])\n",
    "except:\n",
    "    df = pd.read_csv('taxi.csv', index_col=[0], parse_dates=[0])"
   ]
  },
  {
   "cell_type": "code",
   "execution_count": 3,
   "id": "111f21a3",
   "metadata": {},
   "outputs": [
    {
     "data": {
      "text/plain": [
       "num_orders    0\n",
       "dtype: int64"
      ]
     },
     "execution_count": 3,
     "metadata": {},
     "output_type": "execute_result"
    }
   ],
   "source": [
    "df.isna().sum()"
   ]
  },
  {
   "cell_type": "code",
   "execution_count": 4,
   "id": "5bfe00c1",
   "metadata": {},
   "outputs": [
    {
     "data": {
      "text/html": [
       "<div>\n",
       "<style scoped>\n",
       "    .dataframe tbody tr th:only-of-type {\n",
       "        vertical-align: middle;\n",
       "    }\n",
       "\n",
       "    .dataframe tbody tr th {\n",
       "        vertical-align: top;\n",
       "    }\n",
       "\n",
       "    .dataframe thead th {\n",
       "        text-align: right;\n",
       "    }\n",
       "</style>\n",
       "<table border=\"1\" class=\"dataframe\">\n",
       "  <thead>\n",
       "    <tr style=\"text-align: right;\">\n",
       "      <th></th>\n",
       "      <th>num_orders</th>\n",
       "    </tr>\n",
       "    <tr>\n",
       "      <th>datetime</th>\n",
       "      <th></th>\n",
       "    </tr>\n",
       "  </thead>\n",
       "  <tbody>\n",
       "  </tbody>\n",
       "</table>\n",
       "</div>"
      ],
      "text/plain": [
       "Empty DataFrame\n",
       "Columns: [num_orders]\n",
       "Index: []"
      ]
     },
     "execution_count": 4,
     "metadata": {},
     "output_type": "execute_result"
    }
   ],
   "source": [
    "df[df['num_orders'].isna() == True]"
   ]
  },
  {
   "cell_type": "code",
   "execution_count": 5,
   "id": "a263460a",
   "metadata": {
    "scrolled": true
   },
   "outputs": [
    {
     "data": {
      "text/html": [
       "<div>\n",
       "<style scoped>\n",
       "    .dataframe tbody tr th:only-of-type {\n",
       "        vertical-align: middle;\n",
       "    }\n",
       "\n",
       "    .dataframe tbody tr th {\n",
       "        vertical-align: top;\n",
       "    }\n",
       "\n",
       "    .dataframe thead th {\n",
       "        text-align: right;\n",
       "    }\n",
       "</style>\n",
       "<table border=\"1\" class=\"dataframe\">\n",
       "  <thead>\n",
       "    <tr style=\"text-align: right;\">\n",
       "      <th></th>\n",
       "      <th>num_orders</th>\n",
       "    </tr>\n",
       "    <tr>\n",
       "      <th>datetime</th>\n",
       "      <th></th>\n",
       "    </tr>\n",
       "  </thead>\n",
       "  <tbody>\n",
       "    <tr>\n",
       "      <th>2018-03-01 00:00:00</th>\n",
       "      <td>9</td>\n",
       "    </tr>\n",
       "    <tr>\n",
       "      <th>2018-03-01 00:10:00</th>\n",
       "      <td>14</td>\n",
       "    </tr>\n",
       "    <tr>\n",
       "      <th>2018-03-01 00:20:00</th>\n",
       "      <td>28</td>\n",
       "    </tr>\n",
       "    <tr>\n",
       "      <th>2018-03-01 00:30:00</th>\n",
       "      <td>20</td>\n",
       "    </tr>\n",
       "    <tr>\n",
       "      <th>2018-03-01 00:40:00</th>\n",
       "      <td>32</td>\n",
       "    </tr>\n",
       "    <tr>\n",
       "      <th>...</th>\n",
       "      <td>...</td>\n",
       "    </tr>\n",
       "    <tr>\n",
       "      <th>2018-08-31 23:10:00</th>\n",
       "      <td>32</td>\n",
       "    </tr>\n",
       "    <tr>\n",
       "      <th>2018-08-31 23:20:00</th>\n",
       "      <td>24</td>\n",
       "    </tr>\n",
       "    <tr>\n",
       "      <th>2018-08-31 23:30:00</th>\n",
       "      <td>27</td>\n",
       "    </tr>\n",
       "    <tr>\n",
       "      <th>2018-08-31 23:40:00</th>\n",
       "      <td>39</td>\n",
       "    </tr>\n",
       "    <tr>\n",
       "      <th>2018-08-31 23:50:00</th>\n",
       "      <td>53</td>\n",
       "    </tr>\n",
       "  </tbody>\n",
       "</table>\n",
       "<p>26496 rows × 1 columns</p>\n",
       "</div>"
      ],
      "text/plain": [
       "                     num_orders\n",
       "datetime                       \n",
       "2018-03-01 00:00:00           9\n",
       "2018-03-01 00:10:00          14\n",
       "2018-03-01 00:20:00          28\n",
       "2018-03-01 00:30:00          20\n",
       "2018-03-01 00:40:00          32\n",
       "...                         ...\n",
       "2018-08-31 23:10:00          32\n",
       "2018-08-31 23:20:00          24\n",
       "2018-08-31 23:30:00          27\n",
       "2018-08-31 23:40:00          39\n",
       "2018-08-31 23:50:00          53\n",
       "\n",
       "[26496 rows x 1 columns]"
      ]
     },
     "execution_count": 5,
     "metadata": {},
     "output_type": "execute_result"
    }
   ],
   "source": [
    "df.sort_index(inplace=True)\n",
    "df"
   ]
  },
  {
   "cell_type": "code",
   "execution_count": 6,
   "id": "9211e840",
   "metadata": {},
   "outputs": [
    {
     "data": {
      "text/plain": [
       "True"
      ]
     },
     "execution_count": 6,
     "metadata": {},
     "output_type": "execute_result"
    }
   ],
   "source": [
    "df.index.is_monotonic_increasing"
   ]
  },
  {
   "cell_type": "markdown",
   "id": "ab96ee37",
   "metadata": {},
   "source": [
    "Пропусков нет, последовательность соблюдается"
   ]
  },
  {
   "cell_type": "markdown",
   "id": "eb3563cc",
   "metadata": {},
   "source": [
    "Данные на 2018 год за 6 месяцев"
   ]
  },
  {
   "cell_type": "code",
   "execution_count": 7,
   "id": "5723280a",
   "metadata": {},
   "outputs": [
    {
     "name": "stdout",
     "output_type": "stream",
     "text": [
      "<class 'pandas.core.frame.DataFrame'>\n",
      "DatetimeIndex: 26496 entries, 2018-03-01 00:00:00 to 2018-08-31 23:50:00\n",
      "Data columns (total 1 columns):\n",
      " #   Column      Non-Null Count  Dtype\n",
      "---  ------      --------------  -----\n",
      " 0   num_orders  26496 non-null  int64\n",
      "dtypes: int64(1)\n",
      "memory usage: 414.0 KB\n"
     ]
    }
   ],
   "source": [
    "df.info()"
   ]
  },
  {
   "cell_type": "code",
   "execution_count": 8,
   "id": "f0625705",
   "metadata": {
    "scrolled": true
   },
   "outputs": [],
   "source": [
    "df = df.resample('1H').sum()"
   ]
  },
  {
   "cell_type": "code",
   "execution_count": 9,
   "id": "9eb43c9b",
   "metadata": {},
   "outputs": [],
   "source": [
    "decomposed = seasonal_decompose(df) "
   ]
  },
  {
   "cell_type": "code",
   "execution_count": 10,
   "id": "592e34d7",
   "metadata": {},
   "outputs": [
    {
     "data": {
      "text/plain": [
       "Text(0.5, 1.0, 'resid')"
      ]
     },
     "execution_count": 10,
     "metadata": {},
     "output_type": "execute_result"
    },
    {
     "data": {
      "image/png": "[encoded data removed]",
      "text/plain": [
       "<Figure size 640x480 with 1 Axes>"
      ]
     },
     "metadata": {},
     "output_type": "display_data"
    },
    {
     "data": {
      "image/png": "[encoded data removed]",
      "text/plain": [
       "<Figure size 640x480 with 1 Axes>"
      ]
     },
     "metadata": {},
     "output_type": "display_data"
    },
    {
     "data": {
      "image/png": "[encoded data removed]",
      "text/plain": [
       "<Figure size 640x480 with 1 Axes>"
      ]
     },
     "metadata": {},
     "output_type": "display_data"
    }
   ],
   "source": [
    "plt.figure()\n",
    "\n",
    "plt.subplot()\n",
    "decomposed.trend['2018-03-01':'2018-03-7'].plot(ax=plt.gca())\n",
    "plt.title('trend')\n",
    "\n",
    "plt.figure()\n",
    "decomposed.seasonal['2018-03-01':'2018-03-2'].plot(ax=plt.gca())\n",
    "plt.title('Seasonality')\n",
    "\n",
    "plt.figure()\n",
    "decomposed.resid['2018-03-01':'2018-03-2'].plot(ax=plt.gca())\n",
    "plt.title('resid')"
   ]
  },
  {
   "cell_type": "markdown",
   "id": "4168b319",
   "metadata": {},
   "source": [
    " По тренду видны скачки в течение недели, что логично -- 1 марта 2018 года это четверг, на пятницу и субботу приходится много вызовов, люди веселятся. В воскресенье минимум, все отдыхают дома. В рабочие дни вызовов меньше, ну и к праздникам снова повышение\\\n",
    "Сезонность в сутки тоже понятна, минимум вызовов в 6 утра, когда все либо уже спят, либо еще не проснулись. Пик ночью, когда людям нужно вернуться домой, а общественнывй транспорт уже не работает.\n"
   ]
  },
  {
   "cell_type": "code",
   "execution_count": 11,
   "id": "c12fe104",
   "metadata": {},
   "outputs": [],
   "source": [
    "df['Hour'] = df.index.hour\n",
    "df['dayofweek'] = df.index.dayofweek"
   ]
  },
  {
   "cell_type": "code",
   "execution_count": 12,
   "id": "625074e9",
   "metadata": {},
   "outputs": [],
   "source": [
    "def make_features(data, max_lag, rolling_mean_size): \n",
    "    for lag in range(1, max_lag + 1):\n",
    "        data['lag_{}'.format(lag)] = data['num_orders'].shift(lag)\n",
    "\n",
    "    data['rolling_mean'] = data['num_orders'].shift().rolling(rolling_mean_size).mean()"
   ]
  },
  {
   "cell_type": "code",
   "execution_count": 13,
   "id": "538f11ca",
   "metadata": {},
   "outputs": [],
   "source": [
    "def rmse(t, p):\n",
    "    return mean_squared_error(t, p) ** 0.5\n",
    "scorer = make_scorer(rmse, greater_is_better=False)"
   ]
  },
  {
   "cell_type": "markdown",
   "id": "42f2c190",
   "metadata": {},
   "source": [
    "Проверка разных окон и сдвигов:"
   ]
  },
  {
   "cell_type": "code",
   "execution_count": null,
   "id": "e0376f5a",
   "metadata": {},
   "outputs": [],
   "source": [
    "make_features(df, 168, 33)"
   ]
  },
  {
   "cell_type": "code",
   "execution_count": 19,
   "id": "d5130963",
   "metadata": {},
   "outputs": [],
   "source": [
    "train, test = train_test_split(df, shuffle=False, test_size=0.1)\n",
    "train = train.dropna()"
   ]
  },
  {
   "cell_type": "code",
   "execution_count": 20,
   "id": "fbfb99ee",
   "metadata": {},
   "outputs": [],
   "source": [
    "features_train = train.drop('num_orders', axis=1)\n",
    "target_train = train['num_orders']\n",
    "\n",
    "features_test = test.drop('num_orders', axis=1)\n",
    "target_test = test['num_orders']"
   ]
  },
  {
   "cell_type": "code",
   "execution_count": 21,
   "id": "9131809a",
   "metadata": {},
   "outputs": [
    {
     "data": {
      "text/plain": [
       "35.268041584598016"
      ]
     },
     "execution_count": 21,
     "metadata": {},
     "output_type": "execute_result"
    }
   ],
   "source": [
    "model = LinearRegression()\n",
    "model.fit(features_train, target_train)\n",
    "rmse(target_test, model.predict(features_test))"
   ]
  },
  {
   "cell_type": "markdown",
   "id": "185d4965",
   "metadata": {},
   "source": [
    "## Обучение"
   ]
  },
  {
   "cell_type": "code",
   "execution_count": 22,
   "id": "018fc8b8",
   "metadata": {},
   "outputs": [],
   "source": [
    "def test_rmse(model):\n",
    "    model = model\n",
    "    model.fit(features_train, target_train)\n",
    "    print(\"RMSE обучающей выборки:\", rmse(target_train, model.predict(features_train)).round(2))\n",
    "    print(\"RMSE тестовой выборки: \", rmse(target_test, model.predict(features_test)).round(2))"
   ]
  },
  {
   "cell_type": "markdown",
   "id": "960f34a0",
   "metadata": {},
   "source": [
    "Начнем с dummy моделей\n",
    "### Dummy"
   ]
  },
  {
   "cell_type": "markdown",
   "id": "276b4de0",
   "metadata": {},
   "source": [
    "По среднему"
   ]
  },
  {
   "cell_type": "code",
   "execution_count": 23,
   "id": "1823be87",
   "metadata": {
    "scrolled": true
   },
   "outputs": [
    {
     "name": "stdout",
     "output_type": "stream",
     "text": [
      "RMSE: 83.97941361168559\n"
     ]
    }
   ],
   "source": [
    "pred = pd.Series([train['num_orders'].mean()] * len(target_test))\n",
    "print(\"RMSE:\", rmse(target_test, pred))"
   ]
  },
  {
   "cell_type": "markdown",
   "id": "bfb7d542",
   "metadata": {},
   "source": [
    "По медиане"
   ]
  },
  {
   "cell_type": "code",
   "execution_count": 24,
   "id": "f05f7cfc",
   "metadata": {},
   "outputs": [
    {
     "name": "stdout",
     "output_type": "stream",
     "text": [
      "RMSE: 86.41\n"
     ]
    }
   ],
   "source": [
    "pred = pd.Series([train['num_orders'].median()] * len(target_test))\n",
    "print(\"RMSE:\", rmse(target_test, pred).round(2))"
   ]
  },
  {
   "cell_type": "markdown",
   "id": "99a1c74e",
   "metadata": {},
   "source": [
    "По предыдущему"
   ]
  },
  {
   "cell_type": "code",
   "execution_count": 25,
   "id": "2edffe0c",
   "metadata": {},
   "outputs": [
    {
     "name": "stdout",
     "output_type": "stream",
     "text": [
      "RMSE: 58.86\n"
     ]
    },
    {
     "name": "stderr",
     "output_type": "stream",
     "text": [
      "C:\\Users\\Мария\\AppData\\Local\\Temp\\ipykernel_5488\\3846609362.py:1: FutureWarning: Calling float on a single element Series is deprecated and will raise a TypeError in the future. Use float(ser.iloc[0]) instead\n",
      "  pred_previous = target_test.shift(fill_value=float(target_train.iloc[-1:]))\n"
     ]
    }
   ],
   "source": [
    "pred_previous = target_test.shift(fill_value=float(target_train.iloc[-1:]))\n",
    "print(\"RMSE:\", rmse(target_test, pred_previous).round(2))"
   ]
  },
  {
   "cell_type": "markdown",
   "id": "bfa7cff6",
   "metadata": {},
   "source": [
    "### Линейная"
   ]
  },
  {
   "cell_type": "code",
   "execution_count": 26,
   "id": "7658bd13",
   "metadata": {
    "scrolled": true
   },
   "outputs": [
    {
     "name": "stdout",
     "output_type": "stream",
     "text": [
      "RMSE обучающей выборки: 20.72\n",
      "RMSE тестовой выборки:  35.27\n"
     ]
    }
   ],
   "source": [
    "test_rmse(LinearRegression())"
   ]
  },
  {
   "cell_type": "code",
   "execution_count": 27,
   "id": "6b1df2d2",
   "metadata": {},
   "outputs": [],
   "source": [
    "results = pd.DataFrame({\n",
    "    'model' : [],\n",
    "    'rmse' : []\n",
    "})"
   ]
  },
  {
   "cell_type": "code",
   "execution_count": 28,
   "id": "42f192cb",
   "metadata": {},
   "outputs": [
    {
     "data": {
      "text/plain": [
       "22.948398873270744"
      ]
     },
     "execution_count": 28,
     "metadata": {},
     "output_type": "execute_result"
    }
   ],
   "source": [
    "model = LinearRegression()\n",
    "rmse_count = cross_val_score(model,\n",
    "                features_train, \n",
    "                target_train, \n",
    "                cv = TimeSeriesSplit(n_splits=8), \n",
    "                n_jobs = -1, \n",
    "                scoring = 'neg_root_mean_squared_error').mean() * (-1)\n",
    "rmse_count"
   ]
  },
  {
   "cell_type": "code",
   "execution_count": 29,
   "id": "a38c0de6",
   "metadata": {},
   "outputs": [],
   "source": [
    "results.loc[0, 'model'] = 'LinearRegression'\n",
    "results.loc[0, 'rmse'] = rmse_count.round(2)"
   ]
  },
  {
   "cell_type": "raw",
   "id": "29a3dcb9",
   "metadata": {},
   "source": [
    "# обучение линейной регрессией\n",
    "model = LinearRegression()\n",
    "\n",
    "print(f'''Значение метрики RMSE на обучающей выборке для LinearRegression''', cross_val_score(model,X_train, y_train, \n",
    "                         cv = TimeSeriesSplit(n_splits=8), \n",
    "                         n_jobs = -1, \n",
    "                         scoring = 'neg_root_mean_squared_error').mean())"
   ]
  },
  {
   "cell_type": "markdown",
   "id": "9861139d",
   "metadata": {},
   "source": [
    "### LGBM"
   ]
  },
  {
   "cell_type": "code",
   "execution_count": 30,
   "id": "36cec1f0",
   "metadata": {},
   "outputs": [],
   "source": [
    "parametrs = {'n_estimators': range(90, 120, 10),\n",
    "             'learning_rate': np.arange(0.05, 0.26, 0.5),\n",
    "             'num_leaves': range(25, 41, 2)\n",
    "             }"
   ]
  },
  {
   "cell_type": "markdown",
   "id": "26f2f25e",
   "metadata": {},
   "source": [
    "Подбор лучших параметров"
   ]
  },
  {
   "cell_type": "code",
   "execution_count": 31,
   "id": "9bc80ed3",
   "metadata": {},
   "outputs": [],
   "source": [
    "# %%time\n",
    "# model_LGBM = LGBMRegressor()\n",
    "# grid = GridSearchCV(model_LGBM, parametrs, cv=5, verbose=50, scoring=scorer)\n",
    "# grid.fit(features_train, target_train)\n",
    "# grid.best_params_"
   ]
  },
  {
   "cell_type": "code",
   "execution_count": 32,
   "id": "9c825cab",
   "metadata": {
    "scrolled": true
   },
   "outputs": [
    {
     "name": "stdout",
     "output_type": "stream",
     "text": [
      "Fitting 8 folds for each of 24 candidates, totalling 192 fits\n",
      "CPU times: total: 19 s\n",
      "Wall time: 1min 2s\n"
     ]
    },
    {
     "data": {
      "text/plain": [
       "-22.307695041715505"
      ]
     },
     "execution_count": 32,
     "metadata": {},
     "output_type": "execute_result"
    }
   ],
   "source": [
    "%%time\n",
    "model_LGBM = LGBMRegressor()\n",
    "tscv = TimeSeriesSplit(n_splits=8)\n",
    "grid = GridSearchCV(model_LGBM,\n",
    "                       param_grid=parametrs,\n",
    "                       scoring='neg_root_mean_squared_error',\n",
    "                       n_jobs=-1,\n",
    "                       cv=tscv,\n",
    "                       verbose=10)\n",
    "grid.fit(features_train, target_train)\n",
    "grid.best_score_"
   ]
  },
  {
   "cell_type": "code",
   "execution_count": 33,
   "id": "2fac7dcb",
   "metadata": {},
   "outputs": [],
   "source": [
    "results.loc[1, 'model'] = 'LGBMRegressor'\n",
    "results.loc[1, 'rmse'] = (grid.best_score_*(-1)).round(2)"
   ]
  },
  {
   "cell_type": "markdown",
   "id": "a6a34d85",
   "metadata": {},
   "source": [
    "{'learning_rate': 0.05, 'n_estimators': 110, 'num_leaves': 27}"
   ]
  },
  {
   "cell_type": "code",
   "execution_count": 34,
   "id": "d6265a81",
   "metadata": {},
   "outputs": [
    {
     "name": "stdout",
     "output_type": "stream",
     "text": [
      "RMSE обучающей выборки: 13.26\n",
      "RMSE тестовой выборки:  36.81\n"
     ]
    }
   ],
   "source": [
    "test_rmse(LGBMRegressor(learning_rate=0.05, n_estimators=110, num_leaves=27))"
   ]
  },
  {
   "cell_type": "markdown",
   "id": "70350ab9",
   "metadata": {},
   "source": [
    "### Cat"
   ]
  },
  {
   "cell_type": "code",
   "execution_count": 35,
   "id": "cf4c9260",
   "metadata": {},
   "outputs": [],
   "source": [
    "parametrs = {'iterations': range(10, 40, 5),\n",
    "             'learning_rate': np.arange(0.01, 0.7, 0.05),\n",
    "             }"
   ]
  },
  {
   "cell_type": "code",
   "execution_count": 36,
   "id": "39f615ef",
   "metadata": {
    "scrolled": true
   },
   "outputs": [
    {
     "name": "stdout",
     "output_type": "stream",
     "text": [
      "Fitting 8 folds for each of 84 candidates, totalling 672 fits\n",
      "0:\tlearn: 35.4688803\ttotal: 146ms\tremaining: 4.98s\n",
      "1:\tlearn: 32.5498787\ttotal: 161ms\tremaining: 2.65s\n",
      "2:\tlearn: 30.4059762\ttotal: 178ms\tremaining: 1.9s\n",
      "3:\tlearn: 28.4559366\ttotal: 195ms\tremaining: 1.51s\n",
      "4:\tlearn: 26.9236192\ttotal: 209ms\tremaining: 1.25s\n",
      "5:\tlearn: 25.8066931\ttotal: 225ms\tremaining: 1.09s\n",
      "6:\tlearn: 24.7804533\ttotal: 243ms\tremaining: 973ms\n",
      "7:\tlearn: 23.9654204\ttotal: 257ms\tremaining: 868ms\n",
      "8:\tlearn: 23.3240967\ttotal: 272ms\tremaining: 786ms\n",
      "9:\tlearn: 22.7811842\ttotal: 286ms\tremaining: 716ms\n",
      "10:\tlearn: 22.4059337\ttotal: 302ms\tremaining: 658ms\n",
      "11:\tlearn: 22.0149111\ttotal: 322ms\tremaining: 617ms\n",
      "12:\tlearn: 21.6981321\ttotal: 335ms\tremaining: 568ms\n",
      "13:\tlearn: 21.4258066\ttotal: 353ms\tremaining: 529ms\n",
      "14:\tlearn: 21.1836661\ttotal: 369ms\tremaining: 491ms\n",
      "15:\tlearn: 21.0030937\ttotal: 384ms\tremaining: 456ms\n",
      "16:\tlearn: 20.8112642\ttotal: 400ms\tremaining: 423ms\n",
      "17:\tlearn: 20.6661947\ttotal: 414ms\tremaining: 391ms\n",
      "18:\tlearn: 20.6334776\ttotal: 428ms\tremaining: 360ms\n",
      "19:\tlearn: 20.5207900\ttotal: 441ms\tremaining: 331ms\n",
      "20:\tlearn: 20.3727190\ttotal: 455ms\tremaining: 303ms\n",
      "21:\tlearn: 20.2900529\ttotal: 469ms\tremaining: 277ms\n",
      "22:\tlearn: 20.2135904\ttotal: 483ms\tremaining: 252ms\n",
      "23:\tlearn: 20.1352155\ttotal: 497ms\tremaining: 228ms\n",
      "24:\tlearn: 20.1116034\ttotal: 512ms\tremaining: 205ms\n",
      "25:\tlearn: 20.0877332\ttotal: 526ms\tremaining: 182ms\n",
      "26:\tlearn: 20.0589772\ttotal: 540ms\tremaining: 160ms\n",
      "27:\tlearn: 19.9893021\ttotal: 555ms\tremaining: 139ms\n",
      "28:\tlearn: 19.8861020\ttotal: 568ms\tremaining: 118ms\n",
      "29:\tlearn: 19.8019761\ttotal: 583ms\tremaining: 97.1ms\n",
      "30:\tlearn: 19.7292429\ttotal: 596ms\tremaining: 77ms\n",
      "31:\tlearn: 19.6847134\ttotal: 612ms\tremaining: 57.3ms\n",
      "32:\tlearn: 19.6086745\ttotal: 627ms\tremaining: 38ms\n",
      "33:\tlearn: 19.5798470\ttotal: 641ms\tremaining: 18.8ms\n",
      "34:\tlearn: 19.4499356\ttotal: 655ms\tremaining: 0us\n",
      "CPU times: total: 35.9 s\n",
      "Wall time: 2min 30s\n"
     ]
    },
    {
     "data": {
      "text/plain": [
       "-22.349374213790973"
      ]
     },
     "execution_count": 36,
     "metadata": {},
     "output_type": "execute_result"
    }
   ],
   "source": [
    "%%time\n",
    "model_cat = CatBoostRegressor()\n",
    "tscv = TimeSeriesSplit(n_splits=8)\n",
    "grid = GridSearchCV(model_cat,\n",
    "                       param_grid=parametrs,\n",
    "                       scoring='neg_root_mean_squared_error',\n",
    "                       n_jobs=-1,\n",
    "                       cv=tscv,\n",
    "                       verbose=10)\n",
    "grid.fit(features_train, target_train)\n",
    "grid.best_score_"
   ]
  },
  {
   "cell_type": "code",
   "execution_count": 37,
   "id": "183e1674",
   "metadata": {
    "scrolled": true
   },
   "outputs": [],
   "source": [
    "# %%time\n",
    "# model_cat = CatBoostRegressor()\n",
    "# grid = GridSearchCV(model_cat, parametrs, cv=5, verbose=2, scoring=scorer)\n",
    "# grid.fit(features_train, target_train)\n",
    "# grid.best_params_"
   ]
  },
  {
   "cell_type": "code",
   "execution_count": 38,
   "id": "9df07db3",
   "metadata": {},
   "outputs": [],
   "source": [
    "results.loc[2, 'model'] = 'CatBoostRegressor'\n",
    "results.loc[2, 'rmse'] = (grid.best_score_ * (-1)).round(2)"
   ]
  },
  {
   "cell_type": "markdown",
   "id": "7aa7ce9d",
   "metadata": {},
   "source": [
    "{'iterations': 35, 'learning_rate': 0.16}"
   ]
  },
  {
   "cell_type": "code",
   "execution_count": 39,
   "id": "6777389f",
   "metadata": {
    "scrolled": true
   },
   "outputs": [
    {
     "name": "stdout",
     "output_type": "stream",
     "text": [
      "0:\tlearn: 34.5243762\ttotal: 15.4ms\tremaining: 522ms\n",
      "1:\tlearn: 30.9747584\ttotal: 29.4ms\tremaining: 485ms\n",
      "2:\tlearn: 28.5877708\ttotal: 43.8ms\tremaining: 467ms\n",
      "3:\tlearn: 26.5880054\ttotal: 58.1ms\tremaining: 451ms\n",
      "4:\tlearn: 25.0209212\ttotal: 73.2ms\tremaining: 439ms\n",
      "5:\tlearn: 24.0037336\ttotal: 87.5ms\tremaining: 423ms\n",
      "6:\tlearn: 23.1382822\ttotal: 101ms\tremaining: 405ms\n",
      "7:\tlearn: 22.4665188\ttotal: 115ms\tremaining: 388ms\n",
      "8:\tlearn: 21.9650481\ttotal: 129ms\tremaining: 372ms\n",
      "9:\tlearn: 21.6069819\ttotal: 143ms\tremaining: 358ms\n",
      "10:\tlearn: 21.2854717\ttotal: 157ms\tremaining: 342ms\n",
      "11:\tlearn: 20.9829874\ttotal: 172ms\tremaining: 329ms\n",
      "12:\tlearn: 20.7341962\ttotal: 187ms\tremaining: 317ms\n",
      "13:\tlearn: 20.5136935\ttotal: 202ms\tremaining: 303ms\n",
      "14:\tlearn: 20.3664654\ttotal: 216ms\tremaining: 288ms\n",
      "15:\tlearn: 20.2021452\ttotal: 231ms\tremaining: 274ms\n",
      "16:\tlearn: 20.0871738\ttotal: 245ms\tremaining: 259ms\n",
      "17:\tlearn: 19.9172008\ttotal: 259ms\tremaining: 244ms\n",
      "18:\tlearn: 19.8900007\ttotal: 273ms\tremaining: 230ms\n",
      "19:\tlearn: 19.7840711\ttotal: 287ms\tremaining: 215ms\n",
      "20:\tlearn: 19.7095165\ttotal: 301ms\tremaining: 201ms\n",
      "21:\tlearn: 19.6250043\ttotal: 315ms\tremaining: 186ms\n",
      "22:\tlearn: 19.5589011\ttotal: 329ms\tremaining: 172ms\n",
      "23:\tlearn: 19.5191398\ttotal: 343ms\tremaining: 157ms\n",
      "24:\tlearn: 19.4402808\ttotal: 357ms\tremaining: 143ms\n",
      "25:\tlearn: 19.3340178\ttotal: 372ms\tremaining: 129ms\n",
      "26:\tlearn: 19.2953076\ttotal: 385ms\tremaining: 114ms\n",
      "27:\tlearn: 19.2093548\ttotal: 399ms\tremaining: 99.9ms\n",
      "28:\tlearn: 19.1223967\ttotal: 414ms\tremaining: 85.6ms\n",
      "29:\tlearn: 19.0524772\ttotal: 428ms\tremaining: 71.4ms\n",
      "30:\tlearn: 19.0064875\ttotal: 442ms\tremaining: 57ms\n",
      "31:\tlearn: 18.9631586\ttotal: 455ms\tremaining: 42.7ms\n",
      "32:\tlearn: 18.8400094\ttotal: 470ms\tremaining: 28.5ms\n",
      "33:\tlearn: 18.8110076\ttotal: 483ms\tremaining: 14.2ms\n",
      "34:\tlearn: 18.7023768\ttotal: 498ms\tremaining: 0us\n",
      "RMSE обучающей выборки: 18.7\n",
      "RMSE тестовой выборки:  39.99\n"
     ]
    }
   ],
   "source": [
    "test_rmse(CatBoostRegressor(iterations=35, learning_rate=0.21))"
   ]
  },
  {
   "cell_type": "markdown",
   "id": "7ef59fa1",
   "metadata": {},
   "source": [
    "### Tree"
   ]
  },
  {
   "cell_type": "code",
   "execution_count": 40,
   "id": "300f2e4d",
   "metadata": {},
   "outputs": [],
   "source": [
    "parametrs = {'max_depth': range(3, 11, 2),\n",
    "             'min_samples_leaf': range(4, 8),\n",
    "             'min_samples_split': range(2, 6, 2)\n",
    "             }"
   ]
  },
  {
   "cell_type": "code",
   "execution_count": 41,
   "id": "df938faa",
   "metadata": {
    "scrolled": true
   },
   "outputs": [
    {
     "name": "stdout",
     "output_type": "stream",
     "text": [
      "Fitting 8 folds for each of 32 candidates, totalling 256 fits\n",
      "CPU times: total: 4.47 s\n",
      "Wall time: 9.38 s\n"
     ]
    },
    {
     "data": {
      "text/plain": [
       "-25.26052468309368"
      ]
     },
     "execution_count": 41,
     "metadata": {},
     "output_type": "execute_result"
    }
   ],
   "source": [
    "%%time\n",
    "model_tree = DecisionTreeRegressor(random_state=0)\n",
    "tscv = TimeSeriesSplit(n_splits=8)\n",
    "grid = GridSearchCV(model_tree,\n",
    "                       param_grid=parametrs,\n",
    "                       scoring='neg_root_mean_squared_error',\n",
    "                       n_jobs=-1,\n",
    "                       cv=tscv,\n",
    "                       verbose=10)\n",
    "grid.fit(features_train, target_train)\n",
    "grid.best_score_"
   ]
  },
  {
   "cell_type": "code",
   "execution_count": 42,
   "id": "880ab46a",
   "metadata": {
    "scrolled": true
   },
   "outputs": [],
   "source": [
    "# %%time\n",
    "# model_tree = DecisionTreeRegressor(random_state=0)\n",
    "# grid = GridSearchCV(model_tree, parametrs, cv=5, verbose=10, scoring=scorer)\n",
    "# grid.fit(features_train, target_train)\n",
    "# grid.best_params_"
   ]
  },
  {
   "cell_type": "code",
   "execution_count": 43,
   "id": "90ec7d7b",
   "metadata": {},
   "outputs": [],
   "source": [
    "results.loc[3, 'model'] = 'DecisionTreeRegressor'\n",
    "results.loc[3, 'rmse'] = (grid.best_score_ * (-1)).round(2)"
   ]
  },
  {
   "cell_type": "markdown",
   "id": "6dbbf8ed",
   "metadata": {},
   "source": [
    "{'max_depth': 5, 'min_samples_leaf': 6, 'min_samples_split': 2}"
   ]
  },
  {
   "cell_type": "code",
   "execution_count": 44,
   "id": "663d07ff",
   "metadata": {},
   "outputs": [
    {
     "name": "stdout",
     "output_type": "stream",
     "text": [
      "RMSE обучающей выборки: 21.74\n",
      "RMSE тестовой выборки:  45.22\n"
     ]
    }
   ],
   "source": [
    "test_rmse(DecisionTreeRegressor(max_depth=5, min_samples_leaf=6, min_samples_split=2))"
   ]
  },
  {
   "cell_type": "markdown",
   "id": "726f79b9",
   "metadata": {},
   "source": [
    "## Проверка и выводы"
   ]
  },
  {
   "cell_type": "code",
   "execution_count": 45,
   "id": "5ef6d9bd",
   "metadata": {},
   "outputs": [
    {
     "data": {
      "text/html": [
       "<div>\n",
       "<style scoped>\n",
       "    .dataframe tbody tr th:only-of-type {\n",
       "        vertical-align: middle;\n",
       "    }\n",
       "\n",
       "    .dataframe tbody tr th {\n",
       "        vertical-align: top;\n",
       "    }\n",
       "\n",
       "    .dataframe thead th {\n",
       "        text-align: right;\n",
       "    }\n",
       "</style>\n",
       "<table border=\"1\" class=\"dataframe\">\n",
       "  <thead>\n",
       "    <tr style=\"text-align: right;\">\n",
       "      <th></th>\n",
       "      <th>model</th>\n",
       "      <th>rmse</th>\n",
       "    </tr>\n",
       "  </thead>\n",
       "  <tbody>\n",
       "    <tr>\n",
       "      <th>0</th>\n",
       "      <td>LinearRegression</td>\n",
       "      <td>22.95</td>\n",
       "    </tr>\n",
       "    <tr>\n",
       "      <th>1</th>\n",
       "      <td>LGBMRegressor</td>\n",
       "      <td>22.31</td>\n",
       "    </tr>\n",
       "    <tr>\n",
       "      <th>2</th>\n",
       "      <td>CatBoostRegressor</td>\n",
       "      <td>22.35</td>\n",
       "    </tr>\n",
       "    <tr>\n",
       "      <th>3</th>\n",
       "      <td>DecisionTreeRegressor</td>\n",
       "      <td>25.26</td>\n",
       "    </tr>\n",
       "  </tbody>\n",
       "</table>\n",
       "</div>"
      ],
      "text/plain": [
       "                   model   rmse\n",
       "0       LinearRegression  22.95\n",
       "1          LGBMRegressor  22.31\n",
       "2      CatBoostRegressor  22.35\n",
       "3  DecisionTreeRegressor  25.26"
      ]
     },
     "execution_count": 45,
     "metadata": {},
     "output_type": "execute_result"
    }
   ],
   "source": [
    "results"
   ]
  },
  {
   "cell_type": "markdown",
   "id": "50f01b11",
   "metadata": {},
   "source": [
    "В итоге все модели кроме леса почти на одном уровне"
   ]
  },
  {
   "cell_type": "code",
   "execution_count": 46,
   "id": "aae5cc86",
   "metadata": {
    "scrolled": true
   },
   "outputs": [
    {
     "name": "stdout",
     "output_type": "stream",
     "text": [
      "RMSE обучающей выборки: 13.26\n",
      "RMSE тестовой выборки:  36.81\n"
     ]
    }
   ],
   "source": [
    "model = LGBMRegressor(learning_rate=0.05, n_estimators=110, num_leaves=27)\n",
    "test_rmse(model)"
   ]
  },
  {
   "cell_type": "code",
   "execution_count": 47,
   "id": "c2c59159",
   "metadata": {},
   "outputs": [],
   "source": [
    "pred = pd.DataFrame(model.predict(features_test), index = target_test.index)"
   ]
  },
  {
   "cell_type": "code",
   "execution_count": 48,
   "id": "115226da",
   "metadata": {},
   "outputs": [
    {
     "data": {
      "text/plain": [
       "Text(0.5, 1.0, 'Сравнение модели и реальных данных за 2 дня')"
      ]
     },
     "execution_count": 48,
     "metadata": {},
     "output_type": "execute_result"
    },
    {
     "data": {
      "image/png": "[encoded data removed]",
      "text/plain": [
       "<Figure size 1500x500 with 1 Axes>"
      ]
     },
     "metadata": {},
     "output_type": "display_data"
    }
   ],
   "source": [
    "plt.figure(figsize=(15, 5))\n",
    "\n",
    "plt.subplot()\n",
    "\n",
    "target_test['2018-08-13':'2018-08-15'].plot(ax=plt.gca(), label='Реальные данные')\n",
    "pred['2018-08-13':'2018-08-15'].plot(ax=plt.gca(), label='Предсказание модели')\n",
    "\n",
    "plt.legend(['Реальные данные', 'Предсказание модели'])\n",
    "plt.xlabel('Время')\n",
    "plt.ylabel('Количество заказов в час')\n",
    "\n",
    "plt.title('Сравнение модели и реальных данных за 2 дня')"
   ]
  },
  {
   "cell_type": "markdown",
   "id": "abdc78e4",
   "metadata": {},
   "source": [
    "**По графику видно, что модель хорошо справляется с предсказанием, точно устанавливая места максимумов и минимумов на графике, и незначительно ошибается в самом значении**"
   ]
  },
  {
   "cell_type": "code",
   "execution_count": null,
   "id": "98efea03",
   "metadata": {},
   "outputs": [],
   "source": []
  }
 ],
 "metadata": {
  "ExecuteTimeLog": [
   {
    "duration": 1257,
    "start_time": "2023-03-08T07:49:48.349Z"
   },
   {
    "duration": 48,
    "start_time": "2023-03-08T07:49:49.608Z"
   },
   {
    "duration": 16,
    "start_time": "2023-03-08T07:51:21.175Z"
   },
   {
    "duration": 13,
    "start_time": "2023-03-08T07:51:24.946Z"
   },
   {
    "duration": 8,
    "start_time": "2023-03-08T07:53:25.356Z"
   },
   {
    "duration": 526,
    "start_time": "2023-03-08T07:53:25.779Z"
   },
   {
    "duration": 8,
    "start_time": "2023-03-08T07:53:26.441Z"
   },
   {
    "duration": 4,
    "start_time": "2023-03-08T07:53:27.214Z"
   },
   {
    "duration": 3,
    "start_time": "2023-03-08T07:53:28.059Z"
   },
   {
    "duration": 221205,
    "start_time": "2023-03-08T07:53:28.627Z"
   },
   {
    "duration": 99,
    "start_time": "2023-03-08T07:57:09.834Z"
   },
   {
    "duration": 45,
    "start_time": "2023-03-08T07:57:09.935Z"
   },
   {
    "duration": 16,
    "start_time": "2023-03-08T07:57:09.982Z"
   },
   {
    "duration": 31,
    "start_time": "2023-03-08T07:57:10.000Z"
   },
   {
    "duration": 26,
    "start_time": "2023-03-08T08:16:10.337Z"
   },
   {
    "duration": 299,
    "start_time": "2023-03-08T08:16:10.836Z"
   },
   {
    "duration": 11,
    "start_time": "2023-03-08T08:16:11.932Z"
   },
   {
    "duration": 95,
    "start_time": "2023-03-08T08:16:12.246Z"
   },
   {
    "duration": 11,
    "start_time": "2023-03-08T08:16:12.831Z"
   },
   {
    "duration": 16,
    "start_time": "2023-03-08T08:16:13.833Z"
   },
   {
    "duration": 2107,
    "start_time": "2023-03-08T08:16:14.132Z"
   },
   {
    "duration": 13,
    "start_time": "2023-03-08T08:16:16.245Z"
   },
   {
    "duration": 173,
    "start_time": "2023-03-08T08:16:16.260Z"
   },
   {
    "duration": 224,
    "start_time": "2023-03-08T08:16:16.437Z"
   },
   {
    "duration": 63775,
    "start_time": "2023-03-08T08:16:16.662Z"
   },
   {
    "duration": 97,
    "start_time": "2023-03-08T08:17:20.443Z"
   },
   {
    "duration": 99,
    "start_time": "2023-03-08T08:17:26.832Z"
   },
   {
    "duration": 301,
    "start_time": "2023-03-08T08:17:28.332Z"
   },
   {
    "duration": 102,
    "start_time": "2023-03-08T08:17:30.031Z"
   },
   {
    "duration": 17,
    "start_time": "2023-03-08T08:17:30.932Z"
   },
   {
    "duration": 5,
    "start_time": "2023-03-08T08:17:32.133Z"
   },
   {
    "duration": 7,
    "start_time": "2023-03-08T08:17:33.532Z"
   },
   {
    "duration": 9,
    "start_time": "2023-03-08T08:17:35.332Z"
   },
   {
    "duration": 8,
    "start_time": "2023-03-08T08:17:36.632Z"
   },
   {
    "duration": 1106,
    "start_time": "2023-03-08T08:17:37.532Z"
   },
   {
    "duration": 4,
    "start_time": "2023-03-08T08:20:06.933Z"
   },
   {
    "duration": 181918,
    "start_time": "2023-03-08T08:20:07.731Z"
   },
   {
    "duration": 11502,
    "start_time": "2023-03-08T08:23:09.736Z"
   },
   {
    "duration": 0,
    "start_time": "2023-03-08T08:23:21.330Z"
   },
   {
    "duration": 0,
    "start_time": "2023-03-08T08:23:21.333Z"
   },
   {
    "duration": 0,
    "start_time": "2023-03-08T08:23:21.338Z"
   },
   {
    "duration": 87004,
    "start_time": "2023-03-08T08:23:38.132Z"
   },
   {
    "duration": 441599,
    "start_time": "2023-03-08T08:25:14.033Z"
   },
   {
    "duration": 89,
    "start_time": "2023-03-09T08:51:33.615Z"
   },
   {
    "duration": 1774,
    "start_time": "2023-03-09T08:51:37.453Z"
   },
   {
    "duration": 150,
    "start_time": "2023-03-09T08:51:39.233Z"
   },
   {
    "duration": 21,
    "start_time": "2023-03-09T08:51:41.080Z"
   },
   {
    "duration": 12,
    "start_time": "2023-03-09T08:51:58.935Z"
   },
   {
    "duration": 10,
    "start_time": "2023-03-09T08:52:06.392Z"
   },
   {
    "duration": 7,
    "start_time": "2023-03-09T08:53:08.028Z"
   },
   {
    "duration": 8,
    "start_time": "2023-03-09T08:53:24.478Z"
   },
   {
    "duration": 4,
    "start_time": "2023-03-09T08:54:30.735Z"
   },
   {
    "duration": 124,
    "start_time": "2023-03-09T09:04:24.044Z"
   },
   {
    "duration": 9,
    "start_time": "2023-03-09T09:04:28.578Z"
   },
   {
    "duration": 9,
    "start_time": "2023-03-09T09:07:38.815Z"
   },
   {
    "duration": 4,
    "start_time": "2023-03-09T09:07:53.176Z"
   },
   {
    "duration": 3,
    "start_time": "2023-03-09T09:07:53.717Z"
   },
   {
    "duration": 146,
    "start_time": "2023-03-09T09:07:57.835Z"
   },
   {
    "duration": 80,
    "start_time": "2023-03-09T09:08:12.541Z"
   },
   {
    "duration": 20,
    "start_time": "2023-03-09T09:08:15.833Z"
   },
   {
    "duration": 1123,
    "start_time": "2023-03-09T09:08:19.693Z"
   },
   {
    "duration": 987,
    "start_time": "2023-03-09T09:08:21.428Z"
   },
   {
    "duration": 1141,
    "start_time": "2023-03-09T09:09:37.476Z"
   },
   {
    "duration": 3,
    "start_time": "2023-03-09T09:11:09.535Z"
   },
   {
    "duration": 7,
    "start_time": "2023-03-09T09:11:13.079Z"
   },
   {
    "duration": 7,
    "start_time": "2023-03-09T09:11:15.768Z"
   },
   {
    "duration": 6,
    "start_time": "2023-03-09T09:11:20.338Z"
   },
   {
    "duration": 47,
    "start_time": "2023-03-09T09:13:50.292Z"
   },
   {
    "duration": 18,
    "start_time": "2023-03-09T09:13:52.770Z"
   },
   {
    "duration": 20,
    "start_time": "2023-03-09T09:14:02.508Z"
   },
   {
    "duration": 1086,
    "start_time": "2023-03-09T09:14:06.334Z"
   },
   {
    "duration": 1439,
    "start_time": "2023-03-09T09:14:09.779Z"
   },
   {
    "duration": 4,
    "start_time": "2023-03-09T09:14:41.460Z"
   },
   {
    "duration": 922,
    "start_time": "2023-03-09T09:14:44.594Z"
   },
   {
    "duration": 10,
    "start_time": "2023-03-09T09:16:05.137Z"
   },
   {
    "duration": 4,
    "start_time": "2023-03-09T09:17:10.932Z"
   },
   {
    "duration": 10,
    "start_time": "2023-03-09T09:17:17.901Z"
   },
   {
    "duration": 5,
    "start_time": "2023-03-09T09:17:35.463Z"
   },
   {
    "duration": 4887,
    "start_time": "2023-03-09T09:17:41.429Z"
   },
   {
    "duration": 7771,
    "start_time": "2023-03-09T09:17:52.748Z"
   },
   {
    "duration": 5264,
    "start_time": "2023-03-09T09:21:19.953Z"
   },
   {
    "duration": 5495,
    "start_time": "2023-03-09T09:21:52.620Z"
   },
   {
    "duration": 84,
    "start_time": "2023-03-09T09:24:57.370Z"
   },
   {
    "duration": 3,
    "start_time": "2023-03-09T09:25:00.247Z"
   },
   {
    "duration": 2680619,
    "start_time": "2023-03-09T09:25:06.597Z"
   },
   {
    "duration": 4,
    "start_time": "2023-03-09T10:09:47.217Z"
   },
   {
    "duration": 4,
    "start_time": "2023-03-09T10:09:47.223Z"
   },
   {
    "duration": 3,
    "start_time": "2023-03-09T10:09:57.904Z"
   },
   {
    "duration": 6,
    "start_time": "2023-03-09T10:10:00.414Z"
   },
   {
    "duration": 8,
    "start_time": "2023-03-09T10:10:03.687Z"
   },
   {
    "duration": 4,
    "start_time": "2023-03-09T10:10:58.219Z"
   },
   {
    "duration": 5051,
    "start_time": "2023-03-09T10:11:22.460Z"
   },
   {
    "duration": 5272,
    "start_time": "2023-03-09T10:11:38.247Z"
   },
   {
    "duration": 9,
    "start_time": "2023-03-09T10:11:45.747Z"
   },
   {
    "duration": 8,
    "start_time": "2023-03-09T10:11:55.655Z"
   },
   {
    "duration": 4,
    "start_time": "2023-03-09T10:12:33.995Z"
   },
   {
    "duration": 583597,
    "start_time": "2023-03-09T10:12:37.271Z"
   },
   {
    "duration": 2,
    "start_time": "2023-03-09T10:22:20.871Z"
   },
   {
    "duration": 3,
    "start_time": "2023-03-09T11:10:18.821Z"
   },
   {
    "duration": 976302,
    "start_time": "2023-03-09T11:10:18.825Z"
   },
   {
    "duration": 3,
    "start_time": "2023-03-09T11:26:35.129Z"
   },
   {
    "duration": 712848,
    "start_time": "2023-03-09T11:26:35.134Z"
   },
   {
    "duration": 3,
    "start_time": "2023-03-09T11:38:27.986Z"
   },
   {
    "duration": 107870,
    "start_time": "2023-03-09T11:38:27.991Z"
   },
   {
    "duration": 7,
    "start_time": "2023-03-09T14:23:31.926Z"
   },
   {
    "duration": 5,
    "start_time": "2023-03-09T14:23:49.653Z"
   },
   {
    "duration": 5,
    "start_time": "2023-03-09T14:23:55.552Z"
   },
   {
    "duration": 4,
    "start_time": "2023-03-09T14:24:03.887Z"
   },
   {
    "duration": 5,
    "start_time": "2023-03-09T14:24:10.493Z"
   },
   {
    "duration": 4,
    "start_time": "2023-03-09T14:24:20.875Z"
   },
   {
    "duration": 7,
    "start_time": "2023-03-09T14:24:27.825Z"
   },
   {
    "duration": 4,
    "start_time": "2023-03-09T14:25:15.609Z"
   },
   {
    "duration": 8,
    "start_time": "2023-03-09T14:25:17.760Z"
   },
   {
    "duration": 12,
    "start_time": "2023-03-09T14:27:01.326Z"
   },
   {
    "duration": 907,
    "start_time": "2023-03-09T14:27:17.514Z"
   },
   {
    "duration": 1420,
    "start_time": "2023-03-09T14:28:08.299Z"
   },
   {
    "duration": 3,
    "start_time": "2023-03-09T14:28:23.357Z"
   },
   {
    "duration": 3,
    "start_time": "2023-03-09T14:28:46.307Z"
   },
   {
    "duration": 1013,
    "start_time": "2023-03-09T14:28:56.709Z"
   },
   {
    "duration": 447,
    "start_time": "2023-03-09T14:32:24.408Z"
   },
   {
    "duration": 7,
    "start_time": "2023-03-09T14:33:01.378Z"
   },
   {
    "duration": 16,
    "start_time": "2023-03-09T14:34:00.382Z"
   },
   {
    "duration": 14,
    "start_time": "2023-03-09T14:34:04.562Z"
   },
   {
    "duration": 88,
    "start_time": "2023-03-09T14:34:40.325Z"
   },
   {
    "duration": 274,
    "start_time": "2023-03-09T14:34:48.325Z"
   },
   {
    "duration": 172,
    "start_time": "2023-03-09T14:35:12.321Z"
   },
   {
    "duration": 167,
    "start_time": "2023-03-09T14:35:46.054Z"
   },
   {
    "duration": 178,
    "start_time": "2023-03-09T14:35:50.065Z"
   },
   {
    "duration": 204,
    "start_time": "2023-03-09T14:36:00.438Z"
   },
   {
    "duration": 205,
    "start_time": "2023-03-09T14:36:16.723Z"
   },
   {
    "duration": 229,
    "start_time": "2023-03-09T14:36:34.753Z"
   },
   {
    "duration": 228,
    "start_time": "2023-03-09T14:37:13.722Z"
   },
   {
    "duration": 121,
    "start_time": "2023-03-09T14:37:30.060Z"
   },
   {
    "duration": 83,
    "start_time": "2023-03-09T14:39:17.212Z"
   },
   {
    "duration": 240,
    "start_time": "2023-03-09T14:39:21.554Z"
   },
   {
    "duration": 55,
    "start_time": "2023-03-09T14:40:12.965Z"
   },
   {
    "duration": 154,
    "start_time": "2023-03-09T14:40:28.159Z"
   },
   {
    "duration": 9,
    "start_time": "2023-03-09T14:40:37.351Z"
   },
   {
    "duration": 256,
    "start_time": "2023-03-09T14:42:16.853Z"
   },
   {
    "duration": 259,
    "start_time": "2023-03-09T14:42:38.569Z"
   },
   {
    "duration": 370,
    "start_time": "2023-03-09T14:43:38.623Z"
   },
   {
    "duration": 3,
    "start_time": "2023-03-09T14:53:21.961Z"
   },
   {
    "duration": 1302,
    "start_time": "2023-03-09T19:32:46.548Z"
   },
   {
    "duration": 49,
    "start_time": "2023-03-09T19:32:47.852Z"
   },
   {
    "duration": 7,
    "start_time": "2023-03-09T19:32:47.903Z"
   },
   {
    "duration": 11,
    "start_time": "2023-03-09T19:32:47.912Z"
   },
   {
    "duration": 11,
    "start_time": "2023-03-09T19:32:49.250Z"
   },
   {
    "duration": 4,
    "start_time": "2023-03-09T19:32:49.724Z"
   },
   {
    "duration": 13,
    "start_time": "2023-03-09T19:32:52.665Z"
   },
   {
    "duration": 11,
    "start_time": "2023-03-09T19:32:54.626Z"
   },
   {
    "duration": 442,
    "start_time": "2023-03-09T19:32:55.370Z"
   },
   {
    "duration": 6,
    "start_time": "2023-03-09T19:32:56.459Z"
   },
   {
    "duration": 5,
    "start_time": "2023-03-09T19:33:02.112Z"
   },
   {
    "duration": 3,
    "start_time": "2023-03-09T19:33:02.650Z"
   },
   {
    "duration": 3,
    "start_time": "2023-03-09T19:33:04.632Z"
   },
   {
    "duration": 3,
    "start_time": "2023-03-09T19:33:05.731Z"
   },
   {
    "duration": 3,
    "start_time": "2023-03-09T19:33:10.165Z"
   },
   {
    "duration": 2,
    "start_time": "2023-03-09T19:33:10.813Z"
   },
   {
    "duration": 7,
    "start_time": "2023-03-09T19:33:18.980Z"
   },
   {
    "duration": 6,
    "start_time": "2023-03-09T19:33:19.904Z"
   },
   {
    "duration": 13,
    "start_time": "2023-03-09T19:33:25.709Z"
   },
   {
    "duration": 4,
    "start_time": "2023-03-09T19:33:40.090Z"
   },
   {
    "duration": 115,
    "start_time": "2023-03-09T19:33:41.914Z"
   },
   {
    "duration": 15,
    "start_time": "2023-03-09T19:34:04.012Z"
   },
   {
    "duration": 13,
    "start_time": "2023-03-09T19:34:05.776Z"
   },
   {
    "duration": 11,
    "start_time": "2023-03-09T19:34:11.088Z"
   },
   {
    "duration": 10,
    "start_time": "2023-03-09T19:34:54.324Z"
   },
   {
    "duration": 12,
    "start_time": "2023-03-09T19:34:55.449Z"
   },
   {
    "duration": 13,
    "start_time": "2023-03-09T19:34:57.987Z"
   },
   {
    "duration": 4,
    "start_time": "2023-03-09T19:35:18.314Z"
   },
   {
    "duration": 52,
    "start_time": "2023-03-09T19:35:19.065Z"
   },
   {
    "duration": 5,
    "start_time": "2023-03-09T19:35:20.579Z"
   },
   {
    "duration": 84,
    "start_time": "2023-03-09T19:35:34.313Z"
   },
   {
    "duration": 4,
    "start_time": "2023-03-09T19:35:36.968Z"
   },
   {
    "duration": 413127,
    "start_time": "2023-03-09T19:35:38.861Z"
   },
   {
    "duration": 10,
    "start_time": "2023-03-09T19:42:31.990Z"
   },
   {
    "duration": 589,
    "start_time": "2023-03-09T19:42:46.515Z"
   },
   {
    "duration": 3,
    "start_time": "2023-03-09T19:42:58.464Z"
   },
   {
    "duration": 360420,
    "start_time": "2023-03-09T19:42:59.986Z"
   },
   {
    "duration": 5,
    "start_time": "2023-03-09T19:53:43.481Z"
   },
   {
    "duration": 608,
    "start_time": "2023-03-09T19:53:44.659Z"
   },
   {
    "duration": 3,
    "start_time": "2023-03-09T19:53:50.509Z"
   },
   {
    "duration": 3,
    "start_time": "2023-03-09T19:54:05.818Z"
   },
   {
    "duration": 213,
    "start_time": "2023-03-09T19:54:06.406Z"
   },
   {
    "duration": 7,
    "start_time": "2023-03-09T19:54:14.824Z"
   },
   {
    "duration": 18,
    "start_time": "2023-03-09T19:54:15.955Z"
   },
   {
    "duration": 8,
    "start_time": "2023-03-09T19:54:20.870Z"
   },
   {
    "duration": 19,
    "start_time": "2023-03-09T19:54:24.925Z"
   },
   {
    "duration": 5,
    "start_time": "2023-03-09T19:54:29.546Z"
   },
   {
    "duration": 256,
    "start_time": "2023-03-09T19:54:32.571Z"
   },
   {
    "duration": 1705,
    "start_time": "2023-03-10T07:06:43.446Z"
   },
   {
    "duration": 153,
    "start_time": "2023-03-10T07:06:45.154Z"
   },
   {
    "duration": 9,
    "start_time": "2023-03-10T07:06:47.212Z"
   },
   {
    "duration": 12,
    "start_time": "2023-03-10T07:06:47.477Z"
   },
   {
    "duration": 10,
    "start_time": "2023-03-10T07:06:49.484Z"
   },
   {
    "duration": 4,
    "start_time": "2023-03-10T07:06:49.712Z"
   },
   {
    "duration": 13,
    "start_time": "2023-03-10T07:06:53.124Z"
   },
   {
    "duration": 9,
    "start_time": "2023-03-10T07:06:54.585Z"
   },
   {
    "duration": 407,
    "start_time": "2023-03-10T07:06:56.247Z"
   },
   {
    "duration": 5,
    "start_time": "2023-03-10T07:07:03.285Z"
   },
   {
    "duration": 4,
    "start_time": "2023-03-10T07:07:06.898Z"
   },
   {
    "duration": 3,
    "start_time": "2023-03-10T07:07:08.969Z"
   },
   {
    "duration": 114,
    "start_time": "2023-03-10T07:07:13.440Z"
   },
   {
    "duration": 6,
    "start_time": "2023-03-10T07:07:17.577Z"
   },
   {
    "duration": 5,
    "start_time": "2023-03-10T07:07:18.743Z"
   },
   {
    "duration": 10,
    "start_time": "2023-03-10T07:07:20.598Z"
   },
   {
    "duration": 4,
    "start_time": "2023-03-10T07:07:25.850Z"
   },
   {
    "duration": 6,
    "start_time": "2023-03-10T07:07:28.903Z"
   },
   {
    "duration": 6,
    "start_time": "2023-03-10T07:07:30.672Z"
   },
   {
    "duration": 5,
    "start_time": "2023-03-10T07:07:32.432Z"
   },
   {
    "duration": 82,
    "start_time": "2023-03-10T07:07:42.926Z"
   },
   {
    "duration": 1437,
    "start_time": "2023-03-10T07:08:34.486Z"
   },
   {
    "duration": 50,
    "start_time": "2023-03-10T07:08:35.925Z"
   },
   {
    "duration": 8,
    "start_time": "2023-03-10T07:08:35.977Z"
   },
   {
    "duration": 13,
    "start_time": "2023-03-10T07:08:35.987Z"
   },
   {
    "duration": 9,
    "start_time": "2023-03-10T07:08:36.002Z"
   },
   {
    "duration": 12,
    "start_time": "2023-03-10T07:08:36.013Z"
   },
   {
    "duration": 14,
    "start_time": "2023-03-10T07:08:36.026Z"
   },
   {
    "duration": 10,
    "start_time": "2023-03-10T07:08:36.042Z"
   },
   {
    "duration": 447,
    "start_time": "2023-03-10T07:08:36.069Z"
   },
   {
    "duration": 5,
    "start_time": "2023-03-10T07:08:36.518Z"
   },
   {
    "duration": 5,
    "start_time": "2023-03-10T07:08:36.524Z"
   },
   {
    "duration": 14,
    "start_time": "2023-03-10T07:08:36.531Z"
   },
   {
    "duration": 22,
    "start_time": "2023-03-10T07:08:36.546Z"
   },
   {
    "duration": 4,
    "start_time": "2023-03-10T07:08:36.571Z"
   },
   {
    "duration": 6,
    "start_time": "2023-03-10T07:08:36.577Z"
   },
   {
    "duration": 10,
    "start_time": "2023-03-10T07:08:36.584Z"
   },
   {
    "duration": 7,
    "start_time": "2023-03-10T07:08:36.596Z"
   },
   {
    "duration": 5,
    "start_time": "2023-03-10T07:08:36.605Z"
   },
   {
    "duration": 8,
    "start_time": "2023-03-10T07:08:36.611Z"
   },
   {
    "duration": 8,
    "start_time": "2023-03-10T07:08:36.621Z"
   },
   {
    "duration": 10,
    "start_time": "2023-03-10T07:08:36.630Z"
   },
   {
    "duration": 5,
    "start_time": "2023-03-10T07:08:36.642Z"
   },
   {
    "duration": 11,
    "start_time": "2023-03-10T07:08:36.673Z"
   },
   {
    "duration": 4,
    "start_time": "2023-03-10T07:08:36.686Z"
   },
   {
    "duration": 47,
    "start_time": "2023-03-10T07:08:36.691Z"
   },
   {
    "duration": 5,
    "start_time": "2023-03-10T07:08:36.740Z"
   },
   {
    "duration": 24,
    "start_time": "2023-03-10T07:08:36.747Z"
   },
   {
    "duration": 3,
    "start_time": "2023-03-10T07:08:36.773Z"
   },
   {
    "duration": 1499,
    "start_time": "2023-03-10T07:09:37.164Z"
   },
   {
    "duration": 49,
    "start_time": "2023-03-10T07:09:38.665Z"
   },
   {
    "duration": 7,
    "start_time": "2023-03-10T07:09:38.715Z"
   },
   {
    "duration": 10,
    "start_time": "2023-03-10T07:09:38.725Z"
   },
   {
    "duration": 9,
    "start_time": "2023-03-10T07:09:38.737Z"
   },
   {
    "duration": 6,
    "start_time": "2023-03-10T07:09:38.747Z"
   },
   {
    "duration": 15,
    "start_time": "2023-03-10T07:09:38.754Z"
   },
   {
    "duration": 8,
    "start_time": "2023-03-10T07:09:38.770Z"
   },
   {
    "duration": 439,
    "start_time": "2023-03-10T07:09:38.779Z"
   },
   {
    "duration": 5,
    "start_time": "2023-03-10T07:09:39.220Z"
   },
   {
    "duration": 12,
    "start_time": "2023-03-10T07:09:39.226Z"
   },
   {
    "duration": 12,
    "start_time": "2023-03-10T07:09:39.240Z"
   },
   {
    "duration": 12,
    "start_time": "2023-03-10T07:09:39.254Z"
   },
   {
    "duration": 17,
    "start_time": "2023-03-10T07:09:39.268Z"
   },
   {
    "duration": 10,
    "start_time": "2023-03-10T07:09:39.286Z"
   },
   {
    "duration": 20,
    "start_time": "2023-03-10T07:09:39.297Z"
   },
   {
    "duration": 16,
    "start_time": "2023-03-10T07:09:39.319Z"
   },
   {
    "duration": 41,
    "start_time": "2023-03-10T07:09:39.336Z"
   },
   {
    "duration": 16,
    "start_time": "2023-03-10T07:09:39.378Z"
   },
   {
    "duration": 14,
    "start_time": "2023-03-10T07:09:39.396Z"
   },
   {
    "duration": 11,
    "start_time": "2023-03-10T07:09:39.412Z"
   },
   {
    "duration": 9,
    "start_time": "2023-03-10T07:09:39.424Z"
   },
   {
    "duration": 8,
    "start_time": "2023-03-10T07:09:39.435Z"
   },
   {
    "duration": 31,
    "start_time": "2023-03-10T07:09:39.444Z"
   },
   {
    "duration": 101,
    "start_time": "2023-03-10T07:09:39.477Z"
   },
   {
    "duration": 52,
    "start_time": "2023-03-10T07:09:39.670Z"
   },
   {
    "duration": 5,
    "start_time": "2023-03-10T07:09:39.724Z"
   },
   {
    "duration": 7,
    "start_time": "2023-03-10T07:09:39.732Z"
   },
   {
    "duration": 13,
    "start_time": "2023-03-10T07:09:39.740Z"
   },
   {
    "duration": 101544,
    "start_time": "2023-03-10T07:09:39.755Z"
   },
   {
    "duration": 12,
    "start_time": "2023-03-10T07:11:21.301Z"
   },
   {
    "duration": 0,
    "start_time": "2023-03-10T07:11:21.314Z"
   },
   {
    "duration": 0,
    "start_time": "2023-03-10T07:11:21.316Z"
   },
   {
    "duration": 0,
    "start_time": "2023-03-10T07:11:21.317Z"
   },
   {
    "duration": 0,
    "start_time": "2023-03-10T07:11:21.319Z"
   },
   {
    "duration": 0,
    "start_time": "2023-03-10T07:11:21.321Z"
   },
   {
    "duration": 0,
    "start_time": "2023-03-10T07:11:21.322Z"
   },
   {
    "duration": 0,
    "start_time": "2023-03-10T07:11:21.324Z"
   },
   {
    "duration": 0,
    "start_time": "2023-03-10T07:11:21.325Z"
   },
   {
    "duration": 0,
    "start_time": "2023-03-10T07:11:21.327Z"
   },
   {
    "duration": 0,
    "start_time": "2023-03-10T07:11:21.328Z"
   },
   {
    "duration": 1,
    "start_time": "2023-03-10T07:11:21.329Z"
   },
   {
    "duration": 0,
    "start_time": "2023-03-10T07:11:21.331Z"
   },
   {
    "duration": 0,
    "start_time": "2023-03-10T07:11:21.332Z"
   },
   {
    "duration": 0,
    "start_time": "2023-03-10T07:11:21.334Z"
   },
   {
    "duration": 0,
    "start_time": "2023-03-10T07:11:21.335Z"
   },
   {
    "duration": 0,
    "start_time": "2023-03-10T07:11:21.337Z"
   },
   {
    "duration": 0,
    "start_time": "2023-03-10T07:11:21.339Z"
   },
   {
    "duration": 1416,
    "start_time": "2023-03-10T07:11:29.727Z"
   },
   {
    "duration": 51,
    "start_time": "2023-03-10T07:11:31.145Z"
   },
   {
    "duration": 8,
    "start_time": "2023-03-10T07:11:31.774Z"
   },
   {
    "duration": 10,
    "start_time": "2023-03-10T07:11:32.289Z"
   },
   {
    "duration": 10,
    "start_time": "2023-03-10T07:11:34.586Z"
   },
   {
    "duration": 4,
    "start_time": "2023-03-10T07:11:37.644Z"
   },
   {
    "duration": 9,
    "start_time": "2023-03-10T07:11:43.511Z"
   },
   {
    "duration": 10,
    "start_time": "2023-03-10T07:11:45.091Z"
   },
   {
    "duration": 482,
    "start_time": "2023-03-10T07:11:47.225Z"
   },
   {
    "duration": 6,
    "start_time": "2023-03-10T07:11:49.757Z"
   },
   {
    "duration": 4,
    "start_time": "2023-03-10T07:11:57.838Z"
   },
   {
    "duration": 3,
    "start_time": "2023-03-10T07:11:58.507Z"
   },
   {
    "duration": 233,
    "start_time": "2023-03-10T07:12:02.819Z"
   },
   {
    "duration": 25,
    "start_time": "2023-03-10T07:12:07.285Z"
   },
   {
    "duration": 496,
    "start_time": "2023-03-10T07:12:10.077Z"
   },
   {
    "duration": 381,
    "start_time": "2023-03-10T07:12:13.189Z"
   },
   {
    "duration": 351,
    "start_time": "2023-03-10T07:12:57.821Z"
   },
   {
    "duration": 182,
    "start_time": "2023-03-10T07:13:11.696Z"
   },
   {
    "duration": 1736,
    "start_time": "2023-03-10T09:25:49.155Z"
   },
   {
    "duration": 58,
    "start_time": "2023-03-10T09:25:50.893Z"
   },
   {
    "duration": 8,
    "start_time": "2023-03-10T09:25:50.953Z"
   },
   {
    "duration": 9,
    "start_time": "2023-03-10T09:25:50.964Z"
   },
   {
    "duration": 8,
    "start_time": "2023-03-10T09:25:52.558Z"
   },
   {
    "duration": 5,
    "start_time": "2023-03-10T09:25:52.733Z"
   },
   {
    "duration": 18,
    "start_time": "2023-03-10T09:25:54.069Z"
   },
   {
    "duration": 59,
    "start_time": "2023-03-10T09:25:54.447Z"
   },
   {
    "duration": 511,
    "start_time": "2023-03-10T09:25:54.613Z"
   },
   {
    "duration": 7,
    "start_time": "2023-03-10T09:25:55.126Z"
   },
   {
    "duration": 4,
    "start_time": "2023-03-10T09:25:56.501Z"
   },
   {
    "duration": 3,
    "start_time": "2023-03-10T09:25:56.659Z"
   },
   {
    "duration": 3,
    "start_time": "2023-03-10T09:25:56.816Z"
   },
   {
    "duration": 3,
    "start_time": "2023-03-10T09:25:56.999Z"
   },
   {
    "duration": 3,
    "start_time": "2023-03-10T09:25:57.700Z"
   },
   {
    "duration": 2,
    "start_time": "2023-03-10T09:25:57.877Z"
   },
   {
    "duration": 152,
    "start_time": "2023-03-10T09:25:58.798Z"
   },
   {
    "duration": 20,
    "start_time": "2023-03-10T09:25:58.961Z"
   },
   {
    "duration": 7,
    "start_time": "2023-03-10T09:25:59.270Z"
   },
   {
    "duration": 525,
    "start_time": "2023-03-10T09:26:00.000Z"
   },
   {
    "duration": 4,
    "start_time": "2023-03-10T09:26:02.216Z"
   },
   {
    "duration": 6,
    "start_time": "2023-03-10T09:26:03.554Z"
   },
   {
    "duration": 7,
    "start_time": "2023-03-10T09:26:04.424Z"
   },
   {
    "duration": 5,
    "start_time": "2023-03-10T09:26:05.878Z"
   },
   {
    "duration": 444,
    "start_time": "2023-03-10T09:26:07.468Z"
   },
   {
    "duration": 3,
    "start_time": "2023-03-10T09:26:10.431Z"
   },
   {
    "duration": 3117,
    "start_time": "2023-03-10T09:26:10.995Z"
   },
   {
    "duration": 6,
    "start_time": "2023-03-10T09:26:14.299Z"
   },
   {
    "duration": 3,
    "start_time": "2023-03-10T09:26:23.119Z"
   },
   {
    "duration": 4,
    "start_time": "2023-03-10T09:26:48.969Z"
   },
   {
    "duration": 397354,
    "start_time": "2023-03-10T09:26:52.971Z"
   },
   {
    "duration": 4,
    "start_time": "2023-03-10T09:33:30.327Z"
   },
   {
    "duration": 7688,
    "start_time": "2023-03-10T09:33:30.333Z"
   },
   {
    "duration": 88,
    "start_time": "2023-03-10T09:33:38.024Z"
   },
   {
    "duration": 1225124,
    "start_time": "2023-03-10T09:33:38.114Z"
   },
   {
    "duration": 3,
    "start_time": "2023-03-10T09:54:03.239Z"
   },
   {
    "duration": 8,
    "start_time": "2023-03-10T09:54:03.243Z"
   },
   {
    "duration": 2267,
    "start_time": "2023-03-10T09:54:03.252Z"
   },
   {
    "duration": 3,
    "start_time": "2023-03-10T09:54:05.521Z"
   },
   {
    "duration": 27531,
    "start_time": "2023-03-10T09:54:05.527Z"
   },
   {
    "duration": 3,
    "start_time": "2023-03-10T09:54:33.060Z"
   },
   {
    "duration": 11,
    "start_time": "2023-03-10T09:54:33.064Z"
   },
   {
    "duration": 191,
    "start_time": "2023-03-10T09:54:33.077Z"
   },
   {
    "duration": 8,
    "start_time": "2023-03-10T09:54:33.269Z"
   },
   {
    "duration": 332134,
    "start_time": "2023-03-10T09:54:33.279Z"
   },
   {
    "duration": 17,
    "start_time": "2023-03-10T10:00:05.415Z"
   },
   {
    "duration": 353,
    "start_time": "2023-03-10T10:00:05.434Z"
   },
   {
    "duration": 1566,
    "start_time": "2023-05-21T20:05:23.027Z"
   },
   {
    "duration": 141,
    "start_time": "2023-05-21T20:05:24.595Z"
   },
   {
    "duration": 116,
    "start_time": "2023-05-21T20:05:33.831Z"
   },
   {
    "duration": 8,
    "start_time": "2023-05-21T20:05:38.361Z"
   },
   {
    "duration": 12,
    "start_time": "2023-05-21T20:05:40.236Z"
   },
   {
    "duration": 371,
    "start_time": "2023-05-21T20:08:50.702Z"
   },
   {
    "duration": 15,
    "start_time": "2023-05-21T20:12:54.718Z"
   }
  ],
  "kernelspec": {
   "display_name": "Python 3 (ipykernel)",
   "language": "python",
   "name": "python3"
  },
  "language_info": {
   "codemirror_mode": {
    "name": "ipython",
    "version": 3
   },
   "file_extension": ".py",
   "mimetype": "text/x-python",
   "name": "python",
   "nbconvert_exporter": "python",
   "pygments_lexer": "ipython3",
   "version": "3.11.5"
  },
  "toc": {
   "base_numbering": 1,
   "nav_menu": {},
   "number_sections": true,
   "sideBar": true,
   "skip_h1_title": false,
   "title_cell": "Table of Contents",
   "title_sidebar": "Contents",
   "toc_cell": false,
   "toc_position": {},
   "toc_section_display": true,
   "toc_window_display": false
  }
 },
 "nbformat": 4,
 "nbformat_minor": 5
}
